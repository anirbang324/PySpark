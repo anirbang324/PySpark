{
  "nbformat": 4,
  "nbformat_minor": 0,
  "metadata": {
    "colab": {
      "provenance": []
    },
    "kernelspec": {
      "name": "python3",
      "display_name": "Python 3"
    },
    "language_info": {
      "name": "python"
    }
  },
  "cells": [
    {
      "cell_type": "code",
      "execution_count": null,
      "metadata": {
        "colab": {
          "base_uri": "https://localhost:8080/"
        },
        "id": "_-HNGhAvMn0Q",
        "outputId": "59f3e952-e78b-45ba-fefb-b52a87f8fe85"
      },
      "outputs": [
        {
          "output_type": "stream",
          "name": "stdout",
          "text": [
            "Collecting pyspark\n",
            "  Downloading pyspark-3.5.1.tar.gz (317.0 MB)\n",
            "\u001b[2K     \u001b[90m━━━━━━━━━━━━━━━━━━━━━━━━━━━━━━━━━━━━━━━━\u001b[0m \u001b[32m317.0/317.0 MB\u001b[0m \u001b[31m3.1 MB/s\u001b[0m eta \u001b[36m0:00:00\u001b[0m\n",
            "\u001b[?25h  Preparing metadata (setup.py) ... \u001b[?25l\u001b[?25hdone\n",
            "Requirement already satisfied: py4j in /usr/local/lib/python3.10/dist-packages (0.10.9.7)\n",
            "Building wheels for collected packages: pyspark\n",
            "  Building wheel for pyspark (setup.py) ... \u001b[?25l\u001b[?25hdone\n",
            "  Created wheel for pyspark: filename=pyspark-3.5.1-py2.py3-none-any.whl size=317488493 sha256=08e55415036a4c3b411db8c7fcab1c951ffa78e917a0f3d0216d730472320c73\n",
            "  Stored in directory: /root/.cache/pip/wheels/80/1d/60/2c256ed38dddce2fdd93be545214a63e02fbd8d74fb0b7f3a6\n",
            "Successfully built pyspark\n",
            "Installing collected packages: pyspark\n",
            "Successfully installed pyspark-3.5.1\n"
          ]
        }
      ],
      "source": [
        "!pip install pyspark py4j"
      ]
    },
    {
      "cell_type": "code",
      "source": [
        "from pyspark.sql import SparkSession\n",
        "\n",
        "sp = (SparkSession.builder.appName('TestProg').getOrCreate()) #spark session"
      ],
      "metadata": {
        "id": "aTHbQWRDNa0V"
      },
      "execution_count": null,
      "outputs": []
    },
    {
      "cell_type": "code",
      "source": [
        "test_list = '12 11 12 11 121 1 1111 112 112'.split(' ') # a list that will be used to put values into the rdd.\n",
        "type(test_list)\n",
        "print(test_list)"
      ],
      "metadata": {
        "colab": {
          "base_uri": "https://localhost:8080/"
        },
        "id": "9c0bnDHFN-LC",
        "outputId": "0839b83a-bfaa-42a7-a85a-5c32356f8987"
      },
      "execution_count": null,
      "outputs": [
        {
          "output_type": "stream",
          "name": "stdout",
          "text": [
            "['12', '11', '12', '11', '121', '1', '1111', '112', '112']\n"
          ]
        }
      ]
    },
    {
      "cell_type": "code",
      "source": [
        "my_rdd = sp.sparkContext.parallelize(test_list) # storing the list to a rdd using sparkContext."
      ],
      "metadata": {
        "id": "Zt0I9KbrPHrX"
      },
      "execution_count": null,
      "outputs": []
    },
    {
      "cell_type": "code",
      "source": [
        "res_list = my_rdd.collect()\n",
        "\n",
        "for i in res_list:\n",
        "  print(i)"
      ],
      "metadata": {
        "colab": {
          "base_uri": "https://localhost:8080/"
        },
        "id": "rY4ClCxpPuIB",
        "outputId": "519445a3-5120-4e5c-9a26-2c2513017d93"
      },
      "execution_count": null,
      "outputs": [
        {
          "output_type": "stream",
          "name": "stdout",
          "text": [
            "12\n",
            "11\n",
            "12\n",
            "11\n",
            "121\n",
            "1\n",
            "1111\n",
            "112\n",
            "112\n"
          ]
        }
      ]
    },
    {
      "cell_type": "code",
      "source": [
        "type(res_list)"
      ],
      "metadata": {
        "colab": {
          "base_uri": "https://localhost:8080/"
        },
        "id": "vysZsYAJVTTF",
        "outputId": "4ae14a4c-7b12-4bae-ece7-249ad6729355"
      },
      "execution_count": null,
      "outputs": [
        {
          "output_type": "execute_result",
          "data": {
            "text/plain": [
              "list"
            ]
          },
          "metadata": {},
          "execution_count": 26
        }
      ]
    },
    {
      "cell_type": "markdown",
      "source": [
        "distinct() function on rdd to fetch only the unique values from the rdd."
      ],
      "metadata": {
        "id": "I8PcJF0bSDdW"
      }
    },
    {
      "cell_type": "code",
      "source": [
        "# a new rdd is created that will hold the unique values from the rdd.\n",
        "new_rdd = my_rdd.distinct()"
      ],
      "metadata": {
        "id": "KnRX4s-ZRWUN"
      },
      "execution_count": null,
      "outputs": []
    },
    {
      "cell_type": "code",
      "source": [
        "res_list2 = new_rdd.collect() # collect() method to store the values from the rdd into a list.\n",
        "\n",
        "# using for loop to print the values of the rdd.\n",
        "for i in res_list2:\n",
        "  print(i)"
      ],
      "metadata": {
        "colab": {
          "base_uri": "https://localhost:8080/"
        },
        "id": "zhjOxpLaRpzd",
        "outputId": "fd3c441d-f820-4a84-9610-f02508d05ef2"
      },
      "execution_count": null,
      "outputs": [
        {
          "output_type": "stream",
          "name": "stdout",
          "text": [
            "12\n",
            "121\n",
            "1\n",
            "112\n",
            "11\n",
            "1111\n"
          ]
        }
      ]
    },
    {
      "cell_type": "markdown",
      "source": [
        "# Applying filter on RDD"
      ],
      "metadata": {
        "id": "xwT5cjpHTzqb"
      }
    },
    {
      "cell_type": "code",
      "source": [
        "# Example list\n",
        "test_list = [23,24,24,67,34,12]\n",
        "\n",
        "# Create an RDD from the list\n",
        "my_rdd2 = sp.sparkContext.parallelize(test_list)\n",
        "\n",
        "# Define the function to filter even numbers\n",
        "def myfunc(el):\n",
        "    return el % 2 == 0\n",
        "\n",
        "# Use the filter method with the corrected function\n",
        "result = my_rdd2.filter(myfunc).collect()\n",
        "\n",
        "# Print the result\n",
        "print(result)\n"
      ],
      "metadata": {
        "colab": {
          "base_uri": "https://localhost:8080/"
        },
        "id": "Phg5NZF_T28t",
        "outputId": "e7adbce4-c94a-4d4a-f961-09915fca3de4"
      },
      "execution_count": null,
      "outputs": [
        {
          "output_type": "stream",
          "name": "stdout",
          "text": [
            "[24, 24, 34, 12]\n"
          ]
        }
      ]
    },
    {
      "cell_type": "markdown",
      "source": [
        "\n",
        "\n",
        "# Applying Map transformation on RDD\n"
      ],
      "metadata": {
        "id": "1_reK9S0fh3F"
      }
    },
    {
      "cell_type": "code",
      "source": [
        "!pip install matplotlib pandas seaborn"
      ],
      "metadata": {
        "colab": {
          "base_uri": "https://localhost:8080/"
        },
        "id": "90hOqS9016HN",
        "outputId": "3abc173e-c3aa-4f27-96bc-2dd248fc3b49"
      },
      "execution_count": null,
      "outputs": [
        {
          "output_type": "stream",
          "name": "stdout",
          "text": [
            "Requirement already satisfied: matplotlib in /usr/local/lib/python3.10/dist-packages (3.7.1)\n",
            "Requirement already satisfied: pandas in /usr/local/lib/python3.10/dist-packages (2.1.4)\n",
            "Requirement already satisfied: seaborn in /usr/local/lib/python3.10/dist-packages (0.13.1)\n",
            "Requirement already satisfied: contourpy>=1.0.1 in /usr/local/lib/python3.10/dist-packages (from matplotlib) (1.2.1)\n",
            "Requirement already satisfied: cycler>=0.10 in /usr/local/lib/python3.10/dist-packages (from matplotlib) (0.12.1)\n",
            "Requirement already satisfied: fonttools>=4.22.0 in /usr/local/lib/python3.10/dist-packages (from matplotlib) (4.53.1)\n",
            "Requirement already satisfied: kiwisolver>=1.0.1 in /usr/local/lib/python3.10/dist-packages (from matplotlib) (1.4.5)\n",
            "Requirement already satisfied: numpy>=1.20 in /usr/local/lib/python3.10/dist-packages (from matplotlib) (1.26.4)\n",
            "Requirement already satisfied: packaging>=20.0 in /usr/local/lib/python3.10/dist-packages (from matplotlib) (24.1)\n",
            "Requirement already satisfied: pillow>=6.2.0 in /usr/local/lib/python3.10/dist-packages (from matplotlib) (9.4.0)\n",
            "Requirement already satisfied: pyparsing>=2.3.1 in /usr/local/lib/python3.10/dist-packages (from matplotlib) (3.1.2)\n",
            "Requirement already satisfied: python-dateutil>=2.7 in /usr/local/lib/python3.10/dist-packages (from matplotlib) (2.8.2)\n",
            "Requirement already satisfied: pytz>=2020.1 in /usr/local/lib/python3.10/dist-packages (from pandas) (2024.1)\n",
            "Requirement already satisfied: tzdata>=2022.1 in /usr/local/lib/python3.10/dist-packages (from pandas) (2024.1)\n",
            "Requirement already satisfied: six>=1.5 in /usr/local/lib/python3.10/dist-packages (from python-dateutil>=2.7->matplotlib) (1.16.0)\n"
          ]
        }
      ]
    },
    {
      "cell_type": "code",
      "source": [
        "# visulizing the data from the CSV\n",
        "import pandas as pd\n",
        "import matplotlib.pyplot as plt\n",
        "import seaborn as sns\n",
        "# Replace 'file_path.csv' with the path to your CSV file\n",
        "df = pd.read_csv('/content/data.csv')\n",
        "\n",
        "\n",
        "# Example 1: Line Plot\n",
        "plt.figure(figsize=(10, 6))\n",
        "plt.plot(df)\n",
        "plt.title('Line Plot')\n",
        "plt.xlabel('X-axis label')\n",
        "plt.ylabel('Y-axis label')\n",
        "plt.show()\n"
      ],
      "metadata": {
        "colab": {
          "base_uri": "https://localhost:8080/",
          "height": 564
        },
        "id": "5aBF6ccO2LdU",
        "outputId": "8a737d5e-c506-490b-aa1c-1da582c7af09"
      },
      "execution_count": null,
      "outputs": [
        {
          "output_type": "display_data",
          "data": {
            "text/plain": [
              "<Figure size 1000x600 with 1 Axes>"
            ],
            "image/png": "[encoded data removed]"
          },
          "metadata": {}
        }
      ]
    },
    {
      "cell_type": "code",
      "source": [
        "#lst = [4,5,6,7]\n",
        "rdd = sp.sparkContext.parallelize(lst)\n",
        "trnsformed = rdd.map(lambda x: x*2)\n",
        "new_lst = trnsformed.collect()\n",
        "print(new_lst)"
      ],
      "metadata": {
        "id": "sAQTFTHBfliR",
        "colab": {
          "base_uri": "https://localhost:8080/"
        },
        "outputId": "a2a8d26c-59de-4801-be12-1ed793d99f06"
      },
      "execution_count": null,
      "outputs": [
        {
          "output_type": "stream",
          "name": "stdout",
          "text": [
            "[8, 10, 12, 14]\n"
          ]
        }
      ]
    },
    {
      "cell_type": "markdown",
      "source": [
        "# Applying Map transformation on a CSV"
      ],
      "metadata": {
        "id": "bH5TRFC_0gi9"
      }
    },
    {
      "cell_type": "code",
      "source": [
        "# Importing the necessary library\n",
        "import pandas as pd\n",
        "\n",
        "# Reading the CSV file into a DataFrame\n",
        "# The 'header=True' parameter indicates that the first row of the CSV file contains column names\n",
        "df = pd.read_csv('/content/data.csv', header=True)\n",
        "\n",
        "# Defining a function 'extract' that takes a row as input and returns a tuple with two values:\n",
        "# - feature1 converted to a float\n",
        "# - feature2 converted to a float\n",
        "def extract(row):\n",
        "    return (float(row['feature1']),\n",
        "            float(row['feature2']))\n",
        "\n",
        "# Converting the DataFrame to an RDD (Resilient Distributed Dataset) and applying the 'extract' function to each row\n",
        "rdd = df.rdd.map(extract)\n",
        "\n",
        "# Defining a function 'normalize' that takes a row (a tuple with two float values) as input\n",
        "# It tries to normalize the values:\n",
        "# - Divides the first value by 10\n",
        "# - Divides the second value by 100\n",
        "# If a TypeError occurs (e.g., if the values are not numeric), it returns a tuple with (0,0)\n",
        "def normalize(row):\n",
        "    try:\n",
        "        return (row[0]/10, row[1]/100)\n",
        "    except TypeError:\n",
        "        return (0, 0)\n",
        "\n",
        "# Applying the 'normalize' function to each row in the RDD\n",
        "rdd_norm = rdd.map(normalize)\n",
        "\n",
        "# Collecting the normalized RDD back to the driver program as a list of tuples\n",
        "normalized_data = rdd_norm.collect()\n",
        "\n",
        "# Printing each tuple in the collected normalized data\n",
        "for i in normalized_data:\n",
        "    print(i)\n"
      ],
      "metadata": {
        "colab": {
          "base_uri": "https://localhost:8080/"
        },
        "id": "U9QEq5dc0lML",
        "outputId": "941ad4b8-5cfb-4597-91ce-d67788868b35"
      },
      "execution_count": null,
      "outputs": [
        {
          "output_type": "stream",
          "name": "stdout",
          "text": [
            "(0.1, 0.5)\n",
            "(0.3, 0.6)\n",
            "(0.6, 0.7)\n"
          ]
        }
      ]
    },
    {
      "cell_type": "code",
      "source": [
        "# flatMap in pyspark\n",
        "inp_rdd = sp.sparkContext.parallelize([\"hi there\",\"this is pyspark\"])\n",
        "output_rdd = inp_rdd.flatMap(lambda l: l.split(' '))\n",
        "\n",
        "lst = output_rdd.collect()\n",
        "\n",
        "print(lst)"
      ],
      "metadata": {
        "colab": {
          "base_uri": "https://localhost:8080/"
        },
        "id": "IhTXjI4Q0fRX",
        "outputId": "4a806803-8e27-479c-a3c0-a638dcebde24"
      },
      "execution_count": null,
      "outputs": [
        {
          "output_type": "stream",
          "name": "stdout",
          "text": [
            "['hi', 'there', 'this', 'is', 'pyspark']\n"
          ]
        }
      ]
    },
    {
      "cell_type": "markdown",
      "source": [
        "#SortByKey Transformation"
      ],
      "metadata": {
        "id": "dPRs8YZA41oV"
      }
    },
    {
      "cell_type": "code",
      "source": [
        "\n",
        "country_list = [('India',11),('Austrelia',56),('USA',5),('Japan',34)]\n",
        "#creating a rdd\n",
        "country_rdd = sp.sparkContext.parallelize(country_list)"
      ],
      "metadata": {
        "id": "iRokMwUD4J1F"
      },
      "execution_count": null,
      "outputs": []
    },
    {
      "cell_type": "code",
      "source": [
        "# sorting the countries using the country name\n",
        "sorted_country_list = country_rdd.sortByKey().collect()"
      ],
      "metadata": {
        "id": "kugL9iP64mw1"
      },
      "execution_count": null,
      "outputs": []
    },
    {
      "cell_type": "code",
      "source": [
        "for i in sorted_country_list:\n",
        "  print(i)"
      ],
      "metadata": {
        "colab": {
          "base_uri": "https://localhost:8080/"
        },
        "id": "KnraV23o6HGO",
        "outputId": "35f87368-83be-452a-f937-ea2a666b0858"
      },
      "execution_count": null,
      "outputs": [
        {
          "output_type": "stream",
          "name": "stdout",
          "text": [
            "('Austrelia', 56)\n",
            "('India', 11)\n",
            "('Japan', 34)\n",
            "('USA', 5)\n"
          ]
        }
      ]
    },
    {
      "cell_type": "code",
      "source": [
        "# sorting the country list by numbers in ascending order\n",
        "srted_c_list_bynum = country_rdd.map(lambda c: (c[1], c[0])).sortByKey().collect()"
      ],
      "metadata": {
        "id": "awlZgqYm8OlC"
      },
      "execution_count": null,
      "outputs": []
    },
    {
      "cell_type": "code",
      "source": [
        "# sorting the country list by numbers in descending order\n",
        "srted_c_list_bynum = country_rdd.map(lambda c: (c[1], c[0])).sortByKey(False).collect()"
      ],
      "metadata": {
        "id": "mYqoxtHV9WbF"
      },
      "execution_count": null,
      "outputs": []
    },
    {
      "cell_type": "code",
      "source": [
        "for i in srted_c_list_bynum:\n",
        "  print(i)"
      ],
      "metadata": {
        "colab": {
          "base_uri": "https://localhost:8080/"
        },
        "id": "4_y6Bv7l8mq0",
        "outputId": "64fc0a92-33a2-47a0-e077-6530f12d7c40"
      },
      "execution_count": null,
      "outputs": [
        {
          "output_type": "stream",
          "name": "stdout",
          "text": [
            "(5, 'USA')\n",
            "(11, 'India')\n",
            "(34, 'Japan')\n",
            "(56, 'Austrelia')\n"
          ]
        }
      ]
    }
  ]
}