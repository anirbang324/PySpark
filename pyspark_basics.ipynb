{
  "nbformat": 4,
  "nbformat_minor": 0,
  "metadata": {
    "colab": {
      "provenance": []
    },
    "kernelspec": {
      "name": "python3",
      "display_name": "Python 3"
    },
    "language_info": {
      "name": "python"
    }
  },
  "cells": [
    {
      "cell_type": "code",
      "execution_count": null,
      "metadata": {
        "colab": {
          "base_uri": "https://localhost:8080/"
        },
        "id": "SQmQDExRPvL3",
        "outputId": "416f22f9-d571-4524-d256-e19924e8716a"
      },
      "outputs": [
        {
          "output_type": "stream",
          "name": "stdout",
          "text": [
            "Collecting pyspark\n",
            "  Downloading pyspark-3.5.1.tar.gz (317.0 MB)\n",
            "\u001b[2K     \u001b[90m━━━━━━━━━━━━━━━━━━━━━━━━━━━━━━━━━━━━━━━━\u001b[0m \u001b[32m317.0/317.0 MB\u001b[0m \u001b[31m2.7 MB/s\u001b[0m eta \u001b[36m0:00:00\u001b[0m\n",
            "\u001b[?25h  Preparing metadata (setup.py) ... \u001b[?25l\u001b[?25hdone\n",
            "Requirement already satisfied: py4j in /usr/local/lib/python3.10/dist-packages (0.10.9.7)\n",
            "Building wheels for collected packages: pyspark\n",
            "  Building wheel for pyspark (setup.py) ... \u001b[?25l\u001b[?25hdone\n",
            "  Created wheel for pyspark: filename=pyspark-3.5.1-py2.py3-none-any.whl size=317488490 sha256=0459fdab70eda808dbb9cb594b071fa1a2402883dc662691b222e21fc1f2219c\n",
            "  Stored in directory: /root/.cache/pip/wheels/80/1d/60/2c256ed38dddce2fdd93be545214a63e02fbd8d74fb0b7f3a6\n",
            "Successfully built pyspark\n",
            "Installing collected packages: pyspark\n",
            "Successfully installed pyspark-3.5.1\n"
          ]
        }
      ],
      "source": [
        "!pip install pyspark py4j"
      ]
    },
    {
      "cell_type": "code",
      "source": [
        "from pyspark.sql import SparkSession\n",
        "sp = SparkSession.builder.appName('test').getOrCreate()"
      ],
      "metadata": {
        "id": "-slvuNxZQhri"
      },
      "execution_count": null,
      "outputs": []
    },
    {
      "cell_type": "code",
      "source": [
        "type(sp)"
      ],
      "metadata": {
        "colab": {
          "base_uri": "https://localhost:8080/",
          "height": 203
        },
        "id": "Mz9q6JPgTM30",
        "outputId": "de27967d-aaec-436a-a471-f4d64c6f53c3"
      },
      "execution_count": null,
      "outputs": [
        {
          "output_type": "execute_result",
          "data": {
            "text/plain": [
              "pyspark.sql.session.SparkSession"
            ],
            "text/html": [
              "<div style=\"max-width:800px; border: 1px solid var(--colab-border-color);\"><style>\n",
              "      pre.function-repr-contents {\n",
              "        overflow-x: auto;\n",
              "        padding: 8px 12px;\n",
              "        max-height: 500px;\n",
              "      }\n",
              "\n",
              "      pre.function-repr-contents.function-repr-contents-collapsed {\n",
              "        cursor: pointer;\n",
              "        max-height: 100px;\n",
              "      }\n",
              "    </style>\n",
              "    <pre style=\"white-space: initial; background:\n",
              "         var(--colab-secondary-surface-color); padding: 8px 12px;\n",
              "         border-bottom: 1px solid var(--colab-border-color);\"><b>pyspark.sql.session.SparkSession</b><br/>def __init__(sparkContext: SparkContext, jsparkSession: Optional[JavaObject]=None, options: Dict[str, Any]={})</pre><pre class=\"function-repr-contents function-repr-contents-collapsed\" style=\"\"><a class=\"filepath\" style=\"display:none\" href=\"#\">/usr/local/lib/python3.10/dist-packages/pyspark/sql/session.py</a>The entry point to programming Spark with the Dataset and DataFrame API.\n",
              "\n",
              "A SparkSession can be used to create :class:`DataFrame`, register :class:`DataFrame` as\n",
              "tables, execute SQL over tables, cache tables, and read parquet files.\n",
              "To create a :class:`SparkSession`, use the following builder pattern:\n",
              "\n",
              ".. versionchanged:: 3.4.0\n",
              "    Supports Spark Connect.\n",
              "\n",
              ".. autoattribute:: builder\n",
              "   :annotation:\n",
              "\n",
              "Examples\n",
              "--------\n",
              "Create a Spark session.\n",
              "\n",
              "&gt;&gt;&gt; spark = (\n",
              "...     SparkSession.builder\n",
              "...         .master(&quot;local&quot;)\n",
              "...         .appName(&quot;Word Count&quot;)\n",
              "...         .config(&quot;spark.some.config.option&quot;, &quot;some-value&quot;)\n",
              "...         .getOrCreate()\n",
              "... )\n",
              "\n",
              "Create a Spark session with Spark Connect.\n",
              "\n",
              "&gt;&gt;&gt; spark = (\n",
              "...     SparkSession.builder\n",
              "...         .remote(&quot;sc://localhost&quot;)\n",
              "...         .appName(&quot;Word Count&quot;)\n",
              "...         .config(&quot;spark.some.config.option&quot;, &quot;some-value&quot;)\n",
              "...         .getOrCreate()\n",
              "... )  # doctest: +SKIP</pre>\n",
              "      <script>\n",
              "      if (google.colab.kernel.accessAllowed && google.colab.files && google.colab.files.view) {\n",
              "        for (const element of document.querySelectorAll('.filepath')) {\n",
              "          element.style.display = 'block'\n",
              "          element.onclick = (event) => {\n",
              "            event.preventDefault();\n",
              "            event.stopPropagation();\n",
              "            google.colab.files.view(element.textContent, 166);\n",
              "          };\n",
              "        }\n",
              "      }\n",
              "      for (const element of document.querySelectorAll('.function-repr-contents')) {\n",
              "        element.onclick = (event) => {\n",
              "          event.preventDefault();\n",
              "          event.stopPropagation();\n",
              "          element.classList.toggle('function-repr-contents-collapsed');\n",
              "        };\n",
              "      }\n",
              "      </script>\n",
              "      </div>"
            ]
          },
          "metadata": {},
          "execution_count": 6
        }
      ]
    },
    {
      "cell_type": "code",
      "source": [
        "df = sp.read.csv('/content/annual-enterprise-survey-2023-financial-year-provisional-size-bands.csv',header = True, inferSchema = True)\n",
        "df.show()"
      ],
      "metadata": {
        "colab": {
          "base_uri": "https://localhost:8080/"
        },
        "id": "dLKKWGAqQ2Rb",
        "outputId": "b78b6268-c95c-4745-9508-4b1aa33cbaf6"
      },
      "execution_count": null,
      "outputs": [
        {
          "output_type": "stream",
          "name": "stdout",
          "text": [
            "+----+--------------------+--------------------+------------+--------------------+-----+-----------------+\n",
            "|year|industry_code_ANZSIC|industry_name_ANZSIC|rme_size_grp|            variable|value|             unit|\n",
            "+----+--------------------+--------------------+------------+--------------------+-----+-----------------+\n",
            "|2011|                   A|Agriculture, Fore...|         a_0|       Activity unit|46134|            COUNT|\n",
            "|2011|                   A|Agriculture, Fore...|         a_0|Rolling mean empl...|    0|            COUNT|\n",
            "|2011|                   A|Agriculture, Fore...|         a_0|Salaries and wage...|  279|DOLLARS(millions)|\n",
            "|2011|                   A|Agriculture, Fore...|         a_0|Sales, government...| 8187|DOLLARS(millions)|\n",
            "|2011|                   A|Agriculture, Fore...|         a_0|        Total income| 8866|DOLLARS(millions)|\n",
            "|2011|                   A|Agriculture, Fore...|         a_0|   Total expenditure| 7618|DOLLARS(millions)|\n",
            "|2011|                   A|Agriculture, Fore...|         a_0|Operating profit ...|  770|DOLLARS(millions)|\n",
            "|2011|                   A|Agriculture, Fore...|         a_0|        Total assets|55700|DOLLARS(millions)|\n",
            "|2011|                   A|Agriculture, Fore...|         a_0|Fixed tangible as...|32155|DOLLARS(millions)|\n",
            "|2011|                   A|Agriculture, Fore...|       b_1-5|       Activity unit|21777|            COUNT|\n",
            "|2011|                   A|Agriculture, Fore...|       b_1-5|Rolling mean empl...|38136|            COUNT|\n",
            "|2011|                   A|Agriculture, Fore...|       b_1-5|Salaries and wage...| 1435|DOLLARS(millions)|\n",
            "|2011|                   A|Agriculture, Fore...|       b_1-5|Sales, government...|13359|DOLLARS(millions)|\n",
            "|2011|                   A|Agriculture, Fore...|       b_1-5|        Total income|13771|DOLLARS(millions)|\n",
            "|2011|                   A|Agriculture, Fore...|       b_1-5|   Total expenditure|12316|DOLLARS(millions)|\n",
            "|2011|                   A|Agriculture, Fore...|       b_1-5|Operating profit ...| 1247|DOLLARS(millions)|\n",
            "|2011|                   A|Agriculture, Fore...|       b_1-5|        Total assets|52666|DOLLARS(millions)|\n",
            "|2011|                   A|Agriculture, Fore...|       b_1-5|Fixed tangible as...|31235|DOLLARS(millions)|\n",
            "|2011|                   A|Agriculture, Fore...|       c_6-9|       Activity unit| 1965|            COUNT|\n",
            "|2011|                   A|Agriculture, Fore...|       c_6-9|Rolling mean empl...|13848|            COUNT|\n",
            "+----+--------------------+--------------------+------------+--------------------+-----+-----------------+\n",
            "only showing top 20 rows\n",
            "\n"
          ]
        }
      ]
    },
    {
      "cell_type": "code",
      "source": [
        "df = sp.read.csv('/content/sales_records.csv',header = True, inferSchema = True)\n",
        "df.show()"
      ],
      "metadata": {
        "colab": {
          "base_uri": "https://localhost:8080/"
        },
        "id": "UgQt7dpZTfhR",
        "outputId": "579311a4-d054-4123-c12b-6b52ce67e98d"
      },
      "execution_count": null,
      "outputs": [
        {
          "output_type": "stream",
          "name": "stdout",
          "text": [
            "+--------------------+--------------------+---------------+-------------+--------------+----------+---------+----------+----------+----------+---------+-------------+----------+------------+\n",
            "|              Region|             Country|      Item Type|Sales Channel|Order Priority|Order Date| Order ID| Ship Date|Units Sold|Unit Price|Unit Cost|Total Revenue|Total Cost|Total Profit|\n",
            "+--------------------+--------------------+---------------+-------------+--------------+----------+---------+----------+----------+----------+---------+-------------+----------+------------+\n",
            "|Middle East and N...|          Azerbaijan|         Snacks|       Online|             C| 10/8/2014|535113847|10/23/2014|       934|    152.58|    97.44|    142509.72|  91008.96|    51500.76|\n",
            "|Central America a...|              Panama|      Cosmetics|      Offline|             L| 2/22/2015|874708545| 2/27/2015|      4551|     437.2|   263.33|    1989697.2|1198414.83|   791282.37|\n",
            "|  Sub-Saharan Africa|Sao Tome and Prin...|         Fruits|      Offline|             M| 12/9/2015|854349935| 1/18/2016|      9986|      9.33|     6.92|     93169.38|  69103.12|    24066.26|\n",
            "|  Sub-Saharan Africa|Sao Tome and Prin...|  Personal Care|       Online|             M| 9/17/2014|892836844|10/12/2014|      9118|     81.73|    56.67|    745214.14| 516717.06|   228497.08|\n",
            "|Central America a...|              Belize|      Household|      Offline|             H|  2/4/2010|129280602|  3/5/2010|      5858|    668.27|   502.54|   3914725.66|2943879.32|   970846.34|\n",
            "|              Europe|             Denmark|        Clothes|       Online|             C| 2/20/2013|473105037| 2/28/2013|      1149|    109.28|    35.84|    125562.72|  41180.16|    84382.56|\n",
            "|              Europe|             Germany|      Cosmetics|      Offline|             M| 3/31/2013|754046475|  5/3/2013|      7964|     437.2|   263.33|    3481860.8|2097160.12|  1384700.68|\n",
            "|Middle East and N...|              Turkey|         Fruits|       Online|             C| 3/26/2012|772153747|  4/7/2012|      6307|      9.33|     6.92|     58844.31|  43644.44|    15199.87|\n",
            "|              Europe|      United Kingdom|         Snacks|       Online|             H|12/29/2012|847788178| 1/15/2013|      8217|    152.58|    97.44|   1253749.86| 800664.48|   453085.38|\n",
            "|                Asia|          Kazakhstan|      Cosmetics|       Online|             H| 9/11/2015|471623599| 9/18/2015|      2758|     437.2|   263.33|    1205797.6| 726264.14|   479533.46|\n",
            "|Central America a...|               Haiti|      Cosmetics|       Online|             C|12/27/2013|554646337|  1/1/2014|      1031|     437.2|   263.33|     450753.2| 271493.23|   179259.97|\n",
            "|              Europe|               Italy|        Clothes|       Online|             M|12/17/2013|278155219| 1/10/2014|      1165|    109.28|    35.84|     127311.2|   41753.6|     85557.6|\n",
            "|              Europe|               Malta|      Household|      Offline|             L| 3/10/2015|243761575| 4/17/2015|      3322|    668.27|   502.54|   2219992.94|1669437.88|   550555.06|\n",
            "|Middle East and N...|              Jordan|      Household|      Offline|             L|  7/9/2014|223389232| 7/18/2014|      4693|    668.27|   502.54|   3136191.11|2358420.22|   777770.89|\n",
            "|                Asia|            Cambodia|     Vegetables|      Offline|             H| 6/14/2017|509274518| 6/29/2017|      4502|    154.06|    90.93|    693578.12| 409366.86|   284211.26|\n",
            "|Central America a...|Saint Kitts and N...|Office Supplies|       Online|             H| 8/10/2011|563966262| 8/29/2011|      9004|    651.21|   524.96|   5863494.84|4726739.84|   1136755.0|\n",
            "|  Sub-Saharan Africa|            Cameroon|         Fruits|       Online|             H|12/18/2015|370325791|  2/6/2016|      6486|      9.33|     6.92|     60514.38|  44883.12|    15631.26|\n",
            "|Middle East and N...|             Bahrain|     Vegetables|      Offline|             L| 6/26/2016|881526935| 7/19/2016|      2264|    154.06|    90.93|    348791.84| 205865.52|   142926.32|\n",
            "|Australia and Oce...|     Solomon Islands|      Beverages|      Offline|             C| 5/11/2015|871056020| 5/30/2015|      3688|     47.45|    31.79|     174995.6| 117241.52|    57754.08|\n",
            "|              Europe|              Monaco|Office Supplies|       Online|             M| 1/13/2012|982711875| 1/17/2012|      5137|    651.21|   524.96|   3345265.77|2696719.52|   648546.25|\n",
            "+--------------------+--------------------+---------------+-------------+--------------+----------+---------+----------+----------+----------+---------+-------------+----------+------------+\n",
            "only showing top 20 rows\n",
            "\n"
          ]
        }
      ]
    },
    {
      "cell_type": "code",
      "source": [
        "# creating a variable to store the file with its location\n",
        "sales_data = '/content/sales_records.csv'\n",
        "\n",
        "#creating a sales dataframe and loading the file\n",
        "sales_df = (sp.read.format(\"csv\")\n",
        "                     .option(\"header\", \"true\")\n",
        "                     .option(\"inferSchema\", \"true\")\n",
        "                     .load(sales_data))\n",
        "\n",
        "#selecting few records and showing them using spark\n",
        "sales_df.select(\"Region\",\"Country\",\"Order ID\").show(n=10,truncate = False)"
      ],
      "metadata": {
        "colab": {
          "base_uri": "https://localhost:8080/"
        },
        "id": "SA3YAHRfU9di",
        "outputId": "f16e3493-b0c9-4e8c-b25c-121bc5282cd6"
      },
      "execution_count": null,
      "outputs": [
        {
          "output_type": "stream",
          "name": "stdout",
          "text": [
            "+---------------------------------+---------------------+---------+\n",
            "|Region                           |Country              |Order ID |\n",
            "+---------------------------------+---------------------+---------+\n",
            "|Middle East and North Africa     |Azerbaijan           |535113847|\n",
            "|Central America and the Caribbean|Panama               |874708545|\n",
            "|Sub-Saharan Africa               |Sao Tome and Principe|854349935|\n",
            "|Sub-Saharan Africa               |Sao Tome and Principe|892836844|\n",
            "|Central America and the Caribbean|Belize               |129280602|\n",
            "|Europe                           |Denmark              |473105037|\n",
            "|Europe                           |Germany              |754046475|\n",
            "|Middle East and North Africa     |Turkey               |772153747|\n",
            "|Europe                           |United Kingdom       |847788178|\n",
            "|Asia                             |Kazakhstan           |471623599|\n",
            "+---------------------------------+---------------------+---------+\n",
            "only showing top 10 rows\n",
            "\n"
          ]
        }
      ]
    },
    {
      "cell_type": "code",
      "source": [
        "# select the fileds that we require\n",
        "\n",
        "# Import necessary functions\n",
        "from pyspark.sql.functions import count\n",
        "\n",
        "# Grouping by Region and Country and counting the Order IDs\n",
        "sales_df_count = (sales_df.select(\"Region\", \"Country\", \"Order ID\")\n",
        "                            .groupBy(\"Region\", \"Country\")\n",
        "                            .agg(count(\"Order ID\").alias(\"Total Orders\"))\n",
        "                            .orderBy(\"Total Orders\", ascending=False))\n",
        "\n",
        "# Showing the result\n",
        "sales_df_count.show(n=10, truncate = False)\n",
        "\n",
        "# Showing total number of rows\n",
        "print(\"Total rows: \",(sales_df_count.count()))\n",
        "\n"
      ],
      "metadata": {
        "colab": {
          "base_uri": "https://localhost:8080/"
        },
        "id": "3Ioa9140S993",
        "outputId": "6983d4c4-5851-4bc6-a3b8-91c93a28d72f"
      },
      "execution_count": null,
      "outputs": [
        {
          "output_type": "stream",
          "name": "stdout",
          "text": [
            "+---------------------------------+-------------+------------+\n",
            "|Region                           |Country      |Total Orders|\n",
            "+---------------------------------+-------------+------------+\n",
            "|Sub-Saharan Africa               |Sudan        |623         |\n",
            "|Australia and Oceania            |New Zealand  |593         |\n",
            "|Europe                           |Vatican City |590         |\n",
            "|Europe                           |Malta        |589         |\n",
            "|Sub-Saharan Africa               |Mozambique   |589         |\n",
            "|Asia                             |Cambodia     |584         |\n",
            "|Middle East and North Africa     |Tunisia      |584         |\n",
            "|Central America and the Caribbean|Panama       |578         |\n",
            "|Sub-Saharan Africa               |Rwanda       |576         |\n",
            "|Sub-Saharan Africa               |Cote d'Ivoire|575         |\n",
            "+---------------------------------+-------------+------------+\n",
            "only showing top 10 rows\n",
            "\n",
            "Total rows:  185\n"
          ]
        }
      ]
    },
    {
      "cell_type": "code",
      "source": [
        "import pyspark\n",
        "sc = pyspark.SparkContext('local[*]')"
      ],
      "metadata": {
        "id": "1ok2Wv6cgrbc"
      },
      "execution_count": null,
      "outputs": []
    },
    {
      "cell_type": "code",
      "source": [
        "bg_lst = range(1000)\n",
        "rdd = sc.parallelize(bg_lst,2)\n",
        "odds = rdd.filter(lambda x: x%2 !=0)\n",
        "odds.take(5)"
      ],
      "metadata": {
        "colab": {
          "base_uri": "https://localhost:8080/"
        },
        "id": "HSSHfNq_g71C",
        "outputId": "431fc4cd-e995-4bfd-b589-f946b49b5364"
      },
      "execution_count": null,
      "outputs": [
        {
          "output_type": "execute_result",
          "data": {
            "text/plain": [
              "[1, 3, 5, 7, 9]"
            ]
          },
          "metadata": {},
          "execution_count": 4
        }
      ]
    }
  ]
}