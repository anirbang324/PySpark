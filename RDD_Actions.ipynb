{
  "nbformat": 4,
  "nbformat_minor": 0,
  "metadata": {
    "colab": {
      "provenance": []
    },
    "kernelspec": {
      "name": "python3",
      "display_name": "Python 3"
    },
    "language_info": {
      "name": "python"
    }
  },
  "cells": [
    {
      "cell_type": "code",
      "execution_count": null,
      "metadata": {
        "colab": {
          "base_uri": "https://localhost:8080/"
        },
        "id": "rO-aty84HEyF",
        "outputId": "941018d5-376d-4bd9-fa35-42f16c928943"
      },
      "outputs": [
        {
          "output_type": "stream",
          "name": "stdout",
          "text": [
            "Collecting pyspark\n",
            "  Downloading pyspark-3.5.2.tar.gz (317.3 MB)\n",
            "\u001b[2K     \u001b[90m━━━━━━━━━━━━━━━━━━━━━━━━━━━━━━━━━━━━━━━━\u001b[0m \u001b[32m317.3/317.3 MB\u001b[0m \u001b[31m3.8 MB/s\u001b[0m eta \u001b[36m0:00:00\u001b[0m\n",
            "\u001b[?25h  Preparing metadata (setup.py) ... \u001b[?25l\u001b[?25hdone\n",
            "Requirement already satisfied: py4j in /usr/local/lib/python3.10/dist-packages (0.10.9.7)\n",
            "Building wheels for collected packages: pyspark\n",
            "  Building wheel for pyspark (setup.py) ... \u001b[?25l\u001b[?25hdone\n",
            "  Created wheel for pyspark: filename=pyspark-3.5.2-py2.py3-none-any.whl size=317812365 sha256=94bb4f6715a2a11b43e414c00b665735a37d2d7a950a85bf1c2fcfbae6141ce3\n",
            "  Stored in directory: /root/.cache/pip/wheels/34/34/bd/03944534c44b677cd5859f248090daa9fb27b3c8f8e5f49574\n",
            "Successfully built pyspark\n",
            "Installing collected packages: pyspark\n",
            "Successfully installed pyspark-3.5.2\n"
          ]
        }
      ],
      "source": [
        "!pip install pyspark py4j"
      ]
    },
    {
      "cell_type": "code",
      "source": [
        "from pyspark.sql import SparkSession\n",
        "sp = SparkSession.builder.getOrCreate()"
      ],
      "metadata": {
        "id": "wNL3ynRcHMEy"
      },
      "execution_count": null,
      "outputs": []
    },
    {
      "cell_type": "code",
      "source": [
        "lst = [1,2,3,4,45,21,12,78]\n",
        "s = sp.sparkContext.parallelize(lst).reduce(lambda x,y: x+y)\n",
        "print(s)\n"
      ],
      "metadata": {
        "colab": {
          "base_uri": "https://localhost:8080/"
        },
        "id": "jsx8QmHSHrup",
        "outputId": "c4ff4c4f-e319-42d3-e419-5c31ee85bd0a"
      },
      "execution_count": null,
      "outputs": [
        {
          "output_type": "stream",
          "name": "stdout",
          "text": [
            "166\n"
          ]
        }
      ]
    },
    {
      "cell_type": "markdown",
      "source": [
        "Using a (sum)function for RDD-action"
      ],
      "metadata": {
        "id": "RG2dvXb3IAtd"
      }
    },
    {
      "cell_type": "code",
      "source": [
        "def sum_lst(x,y):\n",
        "  print(x,y)\n",
        "  return x+y"
      ],
      "metadata": {
        "id": "J2MAhCkHIIjZ"
      },
      "execution_count": null,
      "outputs": []
    },
    {
      "cell_type": "code",
      "source": [
        "result = sp.sparkContext.parallelize(lst).reduce(lambda x,y: sum_lst(x,y))\n",
        "print(result)"
      ],
      "metadata": {
        "colab": {
          "base_uri": "https://localhost:8080/"
        },
        "id": "r9Oy9ZBOIlR6",
        "outputId": "6df87786-1b81-4004-f5a5-601351abaea0"
      },
      "execution_count": null,
      "outputs": [
        {
          "output_type": "stream",
          "name": "stdout",
          "text": [
            "3 7\n",
            "10\n"
          ]
        }
      ]
    },
    {
      "cell_type": "markdown",
      "source": [
        "Finding the largest word from a list of words using **reduce()** action"
      ],
      "metadata": {
        "id": "yWn1Dm1AJT1o"
      }
    },
    {
      "cell_type": "code",
      "source": [
        "# sample list\n",
        "word_list = ['hello','apple','banana','tree','red']"
      ],
      "metadata": {
        "id": "qEGUcV39JkSR"
      },
      "execution_count": null,
      "outputs": []
    },
    {
      "cell_type": "code",
      "source": [
        "# function to find the longest word\n",
        "def find_word(x,y):\n",
        "  if len(x) > len(y):\n",
        "    return x\n",
        "  else:\n",
        "    return y"
      ],
      "metadata": {
        "id": "kPHC4Z3fJaa6"
      },
      "execution_count": null,
      "outputs": []
    },
    {
      "cell_type": "code",
      "source": [
        "# using 'find_word' function with reduce\n",
        "largest_word = sp.sparkContext.parallelize(word_list).reduce(find_word)\n",
        "print(largest_word)"
      ],
      "metadata": {
        "colab": {
          "base_uri": "https://localhost:8080/"
        },
        "id": "V7h10QkFJc7o",
        "outputId": "6662cdcd-575d-415a-893f-f470fce76b02"
      },
      "execution_count": null,
      "outputs": [
        {
          "output_type": "stream",
          "name": "stdout",
          "text": [
            "banana\n"
          ]
        }
      ]
    },
    {
      "cell_type": "markdown",
      "source": [
        "Finding min and max value from a list using **reduce**"
      ],
      "metadata": {
        "id": "4o7OkF_dK0-c"
      }
    },
    {
      "cell_type": "code",
      "source": [
        "max_value = sp.sparkContext.parallelize(lst).reduce(lambda x, y: x if x > y else y)\n",
        "min_value = sp.sparkContext.parallelize(lst).reduce(lambda x, y: x if x < y else y)\n",
        "print(\"Max Value:\", max_value)\n",
        "print(\"Min Value:\", min_value)"
      ],
      "metadata": {
        "colab": {
          "base_uri": "https://localhost:8080/"
        },
        "id": "mgAfRukbMnoP",
        "outputId": "f0584c07-3bbe-4e86-819a-2e74057feb80"
      },
      "execution_count": null,
      "outputs": [
        {
          "output_type": "stream",
          "name": "stdout",
          "text": [
            "Max Value: 78\n",
            "Min Value: 1\n"
          ]
        }
      ]
    },
    {
      "cell_type": "markdown",
      "source": [
        "Challange 1: Convert fahrenheit to centigrade\n",
        "\n",
        "\n",
        "*   Get the temparature data points greater than 13 degree celcius\n",
        "\n"
      ],
      "metadata": {
        "id": "0VBeA4s2N4j_"
      }
    },
    {
      "cell_type": "code",
      "source": [
        "from pyspark import SparkContext\n",
        "from pyspark.sql import SparkSession\n",
        "spark = SparkSession.builder.getOrCreate()\n",
        "temp_lst = [59,57.2,53.6,55.4,51.8,53.6,55.4]\n",
        "temp_rdd = spark.sparkContext.parallelize(temp_lst)\n",
        "temp_rdd.collect()"
      ],
      "metadata": {
        "colab": {
          "base_uri": "https://localhost:8080/"
        },
        "id": "JZW4xz3zOLcC",
        "outputId": "a8fb2aec-51e0-4104-d5bd-5bbe91abd07e"
      },
      "execution_count": null,
      "outputs": [
        {
          "output_type": "execute_result",
          "data": {
            "text/plain": [
              "[59, 57.2, 53.6, 55.4, 51.8, 53.6, 55.4]"
            ]
          },
          "metadata": {},
          "execution_count": 30
        }
      ]
    },
    {
      "cell_type": "code",
      "source": [
        "def fahrenheit_to_celcius(temp_f):\n",
        "    temp_c = (temp_f - 32) * 5/9\n",
        "    return temp_c"
      ],
      "metadata": {
        "id": "AK3lYmoeOPv_"
      },
      "execution_count": null,
      "outputs": []
    },
    {
      "cell_type": "code",
      "source": [
        "final_result = temp_rdd.map(fahrenheit_to_celcius).filter(lambda x: x >= 13).collect()\n",
        "print(final_result)"
      ],
      "metadata": {
        "colab": {
          "base_uri": "https://localhost:8080/"
        },
        "id": "IhEhq0e1Ohyx",
        "outputId": "5bc324a4-24c0-40b6-9762-8a8b1e257e49"
      },
      "execution_count": null,
      "outputs": [
        {
          "output_type": "stream",
          "name": "stdout",
          "text": [
            "[15.0, 14.000000000000002, 13.0, 13.0]\n"
          ]
        }
      ]
    },
    {
      "cell_type": "markdown",
      "source": [
        "Challange 2:\n",
        "XYZ Research\n",
        "\n",
        "RDD API - XYZ - Research\n",
        "\n",
        "Imagine working as a Data Scientist for a company called XYZ Research that performs research on many diversified topics, and each research project comes with a Research ID.\n",
        "\n",
        "Each Research can be completed within a year and beyond.\n",
        "\n",
        "Take a look at the data below;\n",
        "\n",
        "data2001List = ['RIN1', 'RIN2', 'RIN3', 'RIN4', 'RIN5', 'RIN6', 'RIN7']\n",
        "\n",
        "data2002List = ['RIN3', 'RIN4', 'RIN7', 'RIN8', 'RIN9']\n",
        "\n",
        "data2003List = ['RIN4', 'RIN8', 'RIN10', 'RIN11', 'RIN12']\n",
        "\n",
        "The above-mentioned data indicates the number of projects that have been completed over a period of 3 years.\n",
        "\n",
        "In 2001, there were at least 7 research projects [RIN1 - 7] that were initiated, RIN8 and RIN9 were initiated in 2002, while RIN10, RIN11, and RIN12 were initiated in 2003.\n",
        "\n",
        "RIN3 also appears in 2002, meaning that the research project has actually spanned over 2 years, RIN4, on the other hand, appears in 2001, 2002, and 2003 which means that the research project spanned over 3 years.\n",
        "\n",
        "XYZ Research Requires you to examine the data and find answers to the following questions;\n",
        "\n",
        "1. How many research projects were initiated in the three years?\n",
        "\n",
        "2. How many projects were completed in the first year?\n",
        "\n",
        "3. How many projects were completed in the first two years?\n",
        "\n"
      ],
      "metadata": {
        "id": "tSMJH-gyRa2T"
      }
    },
    {
      "cell_type": "code",
      "source": [
        "# How many research projects were initiated in the three years?\n",
        "\n",
        "data2001List = ['RIN1', 'RIN2', 'RIN3', 'RIN4', 'RIN5', 'RIN6', 'RIN7']\n",
        "data2002List = ['RIN3', 'RIN4', 'RIN7', 'RIN8', 'RIN9']\n",
        "data2003List = ['RIN4', 'RIN8', 'RIN10', 'RIN11', 'RIN12']\n",
        "\n",
        "rdd2001 = spark.sparkContext.parallelize(data2001List)\n",
        "rdd2002 = spark.sparkContext.parallelize(data2002List)\n",
        "rdd2003 = spark.sparkContext.parallelize(data2003List)\n",
        "\n",
        "final_rdd = rdd2001.union(rdd2002).union(rdd2003).distinct().collect()\n",
        "print(\"List of the initiated projects\")\n",
        "print(final_rdd)\n",
        "print(f\"Total {len(final_rdd)} projects were initiated in the three years.\")\n"
      ],
      "metadata": {
        "colab": {
          "base_uri": "https://localhost:8080/"
        },
        "id": "YH5cZMtOTuG4",
        "outputId": "c67bcf7c-a578-44a9-92f5-c93ff18a2a76"
      },
      "execution_count": null,
      "outputs": [
        {
          "output_type": "stream",
          "name": "stdout",
          "text": [
            "List of the initiated projects\n",
            "['RIN1', 'RIN10', 'RIN12', 'RIN2', 'RIN3', 'RIN5', 'RIN8', 'RIN4', 'RIN9', 'RIN11', 'RIN6', 'RIN7']\n",
            "Total 12 projects were initiated in the three years.\n"
          ]
        }
      ]
    },
    {
      "cell_type": "code",
      "source": [
        "# How many projects were completed in the first year?\n",
        "first_year_cpmpleted_projects = rdd2001.subtract(rdd2002)\n",
        "print(\"List of the completed projects in the first year\")\n",
        "print(first_year_cpmpleted_projects.collect())\n",
        "print(f\"Total {first_year_cpmpleted_projects.count()} projects were completed in the first year.\")\n"
      ],
      "metadata": {
        "colab": {
          "base_uri": "https://localhost:8080/"
        },
        "id": "SBOebgp0WKir",
        "outputId": "000bdac7-8816-4bd4-aeeb-15b10cdec8a7"
      },
      "execution_count": null,
      "outputs": [
        {
          "output_type": "stream",
          "name": "stdout",
          "text": [
            "List of the completed projects in the first year\n",
            "['RIN1', 'RIN2', 'RIN5', 'RIN6']\n",
            "Total 4 projects were completed in the first year.\n"
          ]
        }
      ]
    },
    {
      "cell_type": "code",
      "source": [
        "# How many projects were completed in the first two years?\n",
        "\n",
        "union_first_two_years = rdd2001.union(rdd2002)\n",
        "union_first_two_years.collect()"
      ],
      "metadata": {
        "colab": {
          "base_uri": "https://localhost:8080/"
        },
        "id": "iJGNL1HHWg05",
        "outputId": "4b7295d6-aafe-4361-f658-5022b9b6ba9d"
      },
      "execution_count": null,
      "outputs": [
        {
          "output_type": "execute_result",
          "data": {
            "text/plain": [
              "['RIN1',\n",
              " 'RIN2',\n",
              " 'RIN3',\n",
              " 'RIN4',\n",
              " 'RIN5',\n",
              " 'RIN6',\n",
              " 'RIN7',\n",
              " 'RIN3',\n",
              " 'RIN4',\n",
              " 'RIN7',\n",
              " 'RIN8',\n",
              " 'RIN9']"
            ]
          },
          "metadata": {},
          "execution_count": 41
        }
      ]
    },
    {
      "cell_type": "code",
      "source": [
        "completed_projects = union_first_two_years.subtract(rdd2003).distinct().collect()\n",
        "print(completed_projects)\n",
        "print(f\"Total {len(completed_projects)} projects were completed in the first two years.\")"
      ],
      "metadata": {
        "colab": {
          "base_uri": "https://localhost:8080/"
        },
        "id": "hipC1WZwXQL1",
        "outputId": "eba67583-fa4a-4fda-c0bb-4dcb24c6ed28"
      },
      "execution_count": null,
      "outputs": [
        {
          "output_type": "stream",
          "name": "stdout",
          "text": [
            "['RIN1', 'RIN2', 'RIN3', 'RIN5', 'RIN9', 'RIN6', 'RIN7']\n",
            "Total 7 projects were completed in the first two years.\n"
          ]
        }
      ]
    }
  ]
}